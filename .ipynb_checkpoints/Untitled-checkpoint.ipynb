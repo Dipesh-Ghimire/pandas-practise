{
 "cells": [
  {
   "cell_type": "code",
   "execution_count": 1,
   "id": "982ce2ff",
   "metadata": {},
   "outputs": [],
   "source": [
    "import pandas as pd\n",
    "df = pd.read_csv(\"1.DataframeT2.csv\");"
   ]
  },
  {
   "cell_type": "code",
   "execution_count": 26,
   "id": "39c99e5a",
   "metadata": {},
   "outputs": [
    {
     "data": {
      "text/html": [
       "<div>\n",
       "<style scoped>\n",
       "    .dataframe tbody tr th:only-of-type {\n",
       "        vertical-align: middle;\n",
       "    }\n",
       "\n",
       "    .dataframe tbody tr th {\n",
       "        vertical-align: top;\n",
       "    }\n",
       "\n",
       "    .dataframe thead th {\n",
       "        text-align: right;\n",
       "    }\n",
       "</style>\n",
       "<table border=\"1\" class=\"dataframe\">\n",
       "  <thead>\n",
       "    <tr style=\"text-align: right;\">\n",
       "      <th></th>\n",
       "      <th>Day</th>\n",
       "      <th>Temperature</th>\n",
       "      <th>WindSpeed</th>\n",
       "      <th>Event</th>\n",
       "    </tr>\n",
       "  </thead>\n",
       "  <tbody>\n",
       "    <tr>\n",
       "      <th>0</th>\n",
       "      <td>1/1/2017</td>\n",
       "      <td>32</td>\n",
       "      <td>6</td>\n",
       "      <td>Rain</td>\n",
       "    </tr>\n",
       "    <tr>\n",
       "      <th>1</th>\n",
       "      <td>1/2/2017</td>\n",
       "      <td>35</td>\n",
       "      <td>7</td>\n",
       "      <td>Sunny</td>\n",
       "    </tr>\n",
       "    <tr>\n",
       "      <th>2</th>\n",
       "      <td>1/3/2017</td>\n",
       "      <td>28</td>\n",
       "      <td>2</td>\n",
       "      <td>Snow</td>\n",
       "    </tr>\n",
       "    <tr>\n",
       "      <th>3</th>\n",
       "      <td>1/4/2017</td>\n",
       "      <td>24</td>\n",
       "      <td>7</td>\n",
       "      <td>Snow</td>\n",
       "    </tr>\n",
       "    <tr>\n",
       "      <th>4</th>\n",
       "      <td>1/5/2017</td>\n",
       "      <td>32</td>\n",
       "      <td>4</td>\n",
       "      <td>Rain</td>\n",
       "    </tr>\n",
       "    <tr>\n",
       "      <th>5</th>\n",
       "      <td>1/6/2017</td>\n",
       "      <td>31</td>\n",
       "      <td>2</td>\n",
       "      <td>Sunny</td>\n",
       "    </tr>\n",
       "  </tbody>\n",
       "</table>\n",
       "</div>"
      ],
      "text/plain": [
       "        Day  Temperature  WindSpeed  Event\n",
       "0  1/1/2017           32          6   Rain\n",
       "1  1/2/2017           35          7  Sunny\n",
       "2  1/3/2017           28          2   Snow\n",
       "3  1/4/2017           24          7   Snow\n",
       "4  1/5/2017           32          4   Rain\n",
       "5  1/6/2017           31          2  Sunny"
      ]
     },
     "execution_count": 26,
     "metadata": {},
     "output_type": "execute_result"
    }
   ],
   "source": [
    "df"
   ]
  },
  {
   "cell_type": "code",
   "execution_count": 10,
   "id": "4983cd44",
   "metadata": {
    "scrolled": false
   },
   "outputs": [],
   "source": [
    "# Create dataframe using Python Dictionary\n",
    "weather_data = [{'Day':'5/12/2022','Temperature':'40','WindSpeed':'10','Event':'Cloudy'},\n",
    "               {'Day':'5/12/2023','Temperature':'04','New_row':'New_value','WindSpeed':'01','Event':'Rain'}\n",
    "               ];\n",
    "df2 = pd.DataFrame(weather_data);\n",
    "df2;"
   ]
  },
  {
   "cell_type": "code",
   "execution_count": 34,
   "id": "28e54a35",
   "metadata": {},
   "outputs": [],
   "source": [
    "#view\n",
    "df.shape;\n",
    "df[2:5];\n",
    "df.columns;\n",
    "df.Day;\n",
    "df[['Day','Temperature']];"
   ]
  },
  {
   "cell_type": "code",
   "execution_count": 54,
   "id": "994d650f",
   "metadata": {},
   "outputs": [],
   "source": [
    "#operations\n",
    "df['Temperature'].max();\n",
    "df['Temperature'].describe();\n",
    "df[['Day','Event']][df.Temperature>=30];\n",
    "df[df.Temperature>=30];"
   ]
  },
  {
   "cell_type": "code",
   "execution_count": 85,
   "id": "0daab377",
   "metadata": {},
   "outputs": [],
   "source": [
    "#set index and range of index\n",
    "df.index;\n",
    "#df.set_index('Day',inplace=False)\n",
    "#df.reset_index(inplace=True)"
   ]
  },
  {
   "cell_type": "code",
   "execution_count": 87,
   "id": "dca2287a",
   "metadata": {},
   "outputs": [],
   "source": [
    "#df.loc['1/4/2017'];"
   ]
  },
  {
   "cell_type": "code",
   "execution_count": 105,
   "id": "f785ec18",
   "metadata": {},
   "outputs": [],
   "source": [
    "df.set_index('Day',inplace=True)"
   ]
  },
  {
   "cell_type": "code",
   "execution_count": 107,
   "id": "ffa3dff1",
   "metadata": {},
   "outputs": [
    {
     "data": {
      "text/plain": [
       "Temperature      32\n",
       "WindSpeed         6\n",
       "Event          Rain\n",
       "Name: 1/1/2017, dtype: object"
      ]
     },
     "execution_count": 107,
     "metadata": {},
     "output_type": "execute_result"
    }
   ],
   "source": [
    "df.loc['1/1/2017']"
   ]
  },
  {
   "cell_type": "code",
   "execution_count": null,
   "id": "d7c4fd4e",
   "metadata": {},
   "outputs": [],
   "source": []
  }
 ],
 "metadata": {
  "kernelspec": {
   "display_name": "Python 3 (ipykernel)",
   "language": "python",
   "name": "python3"
  },
  "language_info": {
   "codemirror_mode": {
    "name": "ipython",
    "version": 3
   },
   "file_extension": ".py",
   "mimetype": "text/x-python",
   "name": "python",
   "nbconvert_exporter": "python",
   "pygments_lexer": "ipython3",
   "version": "3.10.6"
  }
 },
 "nbformat": 4,
 "nbformat_minor": 5
}
